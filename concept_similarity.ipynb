{
 "cells": [
  {
   "cell_type": "code",
   "execution_count": 29,
   "id": "e675978e-fc01-4c47-8ee5-2b1d080ac76e",
   "metadata": {},
   "outputs": [],
   "source": [
    "from src.data.dataset import load_data\n",
    "import torch\n",
    "import numpy as np\n",
    "import pickle\n",
    "from tqdm import tqdm\n",
    "from torchmetrics.classification import MultilabelJaccardIndex"
   ]
  },
  {
   "cell_type": "code",
   "execution_count": 3,
   "id": "b86aac4c-8c45-4da5-9bb8-f1d3e9872282",
   "metadata": {},
   "outputs": [],
   "source": [
    "x_to_c = torch.load('ConceptModel__Seed1/outputs/best_model_1.pth')\n",
    "c_to_y = torch.load('IndependentModel_WithVal___Seed1/outputs/best_model_1.pth')"
   ]
  },
  {
   "cell_type": "code",
   "execution_count": 4,
   "id": "395153a4-6439-4c28-976f-8b09688ba263",
   "metadata": {},
   "outputs": [],
   "source": [
    "test_loader = load_data(pkl_paths=['CUB_processed/class_attr_data_10/test.pkl'],use_attr=True,no_img=False,batch_size=32)"
   ]
  },
  {
   "cell_type": "code",
   "execution_count": 60,
   "id": "6f879682-0545-41f9-a04d-181cead83eaa",
   "metadata": {
    "tags": []
   },
   "outputs": [
    {
     "name": "stderr",
     "output_type": "stream",
     "text": [
      "100%|█████████████████████████████████████████████████████████████████████████████████| 182/182 [00:45<00:00,  4.00it/s]\n"
     ]
    }
   ],
   "source": [
    "cos = torch.nn.CosineSimilarity(dim=1, eps=1e-6)\n",
    "jac = MultilabelJaccardIndex(num_labels=112,average=\"weighted\")\n",
    "jac.cuda()\n",
    "\n",
    "cosine_similarities = []\n",
    "outputs_all = []\n",
    "concepts_all = []\n",
    "\n",
    "x_to_c.eval()\n",
    "for images, labels, concepts in tqdm(test_loader):\n",
    "    image_b = images.cuda(non_blocking=True)\n",
    "    label = labels.cuda(non_blocking=True)\n",
    "    concepts = torch.stack(concepts,dim=1).cuda(non_blocking=True)\n",
    "\n",
    "    with torch.no_grad():\n",
    "        outputs = x_to_c(image_b)\n",
    "    \n",
    "    outputs = torch.squeeze(torch.stack(outputs,dim=1))\n",
    "    outputs = torch.nn.functional.sigmoid(outputs)\n",
    "    \n",
    "    outputs_all.append(outputs)\n",
    "    concepts_all.append(concepts)\n",
    "    \n",
    "    cosine_similarities.append(cos(outputs,concepts))\n",
    "    \n",
    "cosine_similarities = torch.cat(cosine_similarities)\n",
    "outputs_all = torch.cat(outputs_all)\n",
    "concepts_all = torch.cat(concepts_all)\n",
    "\n",
    "jaccard_similarity = jac(outputs_all,concepts_all)"
   ]
  },
  {
   "cell_type": "code",
   "execution_count": 61,
   "id": "beb9caaf-fdb3-40b0-a4cc-c0ea9fb8a77b",
   "metadata": {},
   "outputs": [
    {
     "name": "stdout",
     "output_type": "stream",
     "text": [
      "Jaccard similarity: 0.8566474914550781\n",
      "Cosine similarity: 0.9317216277122498\n"
     ]
    }
   ],
   "source": [
    "print(\"Jaccard similarity:\",jaccard_similarity.item())\n",
    "print(\"Cosine similarity:\",cosine_similarities.mean().item())"
   ]
  }
 ],
 "metadata": {
  "kernelspec": {
   "display_name": "xai",
   "language": "python",
   "name": "xai"
  },
  "language_info": {
   "codemirror_mode": {
    "name": "ipython",
    "version": 3
   },
   "file_extension": ".py",
   "mimetype": "text/x-python",
   "name": "python",
   "nbconvert_exporter": "python",
   "pygments_lexer": "ipython3",
   "version": "3.10.7"
  }
 },
 "nbformat": 4,
 "nbformat_minor": 5
}
